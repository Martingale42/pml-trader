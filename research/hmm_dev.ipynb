{
 "cells": [
  {
   "cell_type": "code",
   "execution_count": 1,
   "metadata": {},
   "outputs": [
    {
     "name": "stdout",
     "output_type": "stream",
     "text": [
      "\u001b[2mUsing Python 3.12.8 environment at: /Users/ohh/Desktop/Code/NautilusTraders/probabilistic_trader/.venv\u001b[0m\n",
      "probabilistic-trading     0.1.0          /Users/ohh/Desktop/Code/NautilusTraders/probabilistic_trader\n"
     ]
    }
   ],
   "source": [
    "!uv pip list | grep probabilistic-trading\n"
   ]
  }
 ],
 "metadata": {
  "kernelspec": {
   "display_name": ".venv",
   "language": "python",
   "name": "python3"
  },
  "language_info": {
   "codemirror_mode": {
    "name": "ipython",
    "version": 3
   },
   "file_extension": ".py",
   "mimetype": "text/x-python",
   "name": "python",
   "nbconvert_exporter": "python",
   "pygments_lexer": "ipython3",
   "version": "3.12.8"
  }
 },
 "nbformat": 4,
 "nbformat_minor": 2
}
